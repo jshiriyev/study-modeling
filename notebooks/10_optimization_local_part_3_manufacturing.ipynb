{
 "cells": [
  {
   "cell_type": "code",
   "execution_count": 1,
   "id": "26e5fb67-5b55-4feb-aad6-4570ec75f611",
   "metadata": {},
   "outputs": [],
   "source": [
    "import numpy as np"
   ]
  },
  {
   "cell_type": "code",
   "execution_count": 2,
   "id": "7746cb7f-4e19-449f-ad91-494dca3a67cd",
   "metadata": {},
   "outputs": [],
   "source": [
    "np.set_printoptions(suppress=True, precision=2)"
   ]
  },
  {
   "cell_type": "markdown",
   "id": "398a729a-44a5-458b-a319-f49e288c70c9",
   "metadata": {},
   "source": [
    "# Problem Description"
   ]
  },
  {
   "cell_type": "code",
   "execution_count": 3,
   "id": "922ffbab-e403-4722-b533-e45a6bd20bf7",
   "metadata": {},
   "outputs": [],
   "source": [
    "def profit(production_rate,profit_per_product):\n",
    "    return np.sum(production_rate*profit_per_product)"
   ]
  },
  {
   "cell_type": "code",
   "execution_count": 4,
   "id": "555c1434-0d75-442b-8fdb-9350b9beaa7c",
   "metadata": {},
   "outputs": [],
   "source": [
    "profit_per_product = np.array([90,60,45])"
   ]
  },
  {
   "cell_type": "code",
   "execution_count": 5,
   "id": "eff90b58-cc4b-4825-9f9a-5a648aa4c943",
   "metadata": {},
   "outputs": [],
   "source": [
    "material_lower_bound = np.array([0., 0., 0., 0., 0.])\n",
    "material_upper_bound = np.array([450., 250., 800., 450., 600.])"
   ]
  },
  {
   "cell_type": "code",
   "execution_count": 6,
   "id": "a4359097-a5e9-4784-b52c-7bb7df93539c",
   "metadata": {},
   "outputs": [],
   "source": [
    "Q = np.zeros((5,3))\n",
    "\n",
    "Q[0,:] = np.array([1.5 , 1.0 , 0.0 ])\n",
    "Q[1,:] = np.array([2.0 , 0.0 , 1.5 ])\n",
    "Q[2,:] = np.array([0.75, 3.0 , 0.0 ])\n",
    "Q[3,:] = np.array([1.25, 0.75, 1.0 ])\n",
    "Q[4,:] = np.array([1.0 , 0.0 , 2.0 ])"
   ]
  },
  {
   "cell_type": "code",
   "execution_count": 7,
   "id": "6a250659-c4e3-4321-94d1-5e4bf30c3bb3",
   "metadata": {},
   "outputs": [],
   "source": [
    "product_lower_bound = [0,0,0]\n",
    "\n",
    "U = np.tile(material_upper_bound,3).reshape((3,-1))\n",
    "U[Q.T==0] = np.nan\n",
    "\n",
    "product_upper_bound = np.nanmin(np.divide(U,Q.T),axis=1)"
   ]
  },
  {
   "cell_type": "code",
   "execution_count": 8,
   "id": "2634f2b2-e06b-4d20-b7ef-695a3390e1dc",
   "metadata": {},
   "outputs": [
    {
     "data": {
      "text/plain": [
       "array([125.  , 266.67, 166.67])"
      ]
     },
     "execution_count": 8,
     "metadata": {},
     "output_type": "execute_result"
    }
   ],
   "source": [
    "product_upper_bound"
   ]
  },
  {
   "cell_type": "markdown",
   "id": "f976694b-9b02-43da-be05-5eeebd81fab1",
   "metadata": {},
   "source": [
    "# Random Simulation"
   ]
  },
  {
   "cell_type": "code",
   "execution_count": 9,
   "id": "49fbb38f-6071-442b-bb25-2ab1322458b3",
   "metadata": {},
   "outputs": [],
   "source": [
    "def random(lower_bound:np.ndarray, upper_bound:np.ndarray):\n",
    "    return np.random.uniform(low=lower_bound, high=upper_bound)"
   ]
  },
  {
   "cell_type": "code",
   "execution_count": 10,
   "id": "de4ffcd8-52a0-4154-8bfb-1f4131ebc698",
   "metadata": {},
   "outputs": [
    {
     "data": {
      "text/plain": [
       "array([110.72, 238.86, 127.31])"
      ]
     },
     "execution_count": 10,
     "metadata": {},
     "output_type": "execute_result"
    }
   ],
   "source": [
    "random(product_lower_bound,product_upper_bound)"
   ]
  },
  {
   "cell_type": "code",
   "execution_count": 11,
   "id": "1ddb5c44-5f33-4d91-8332-4191dc2359ea",
   "metadata": {},
   "outputs": [],
   "source": [
    "Nsimulation = 100_000\n",
    "\n",
    "O,I,R = [],[],[]\n",
    "\n",
    "for i in range(Nsimulation):\n",
    "    O.append(random(product_lower_bound,product_upper_bound))\n",
    "    I.append(Q.dot(O[i]))\n",
    "    R.append(0 if np.any(I[i]>material_upper_bound) else profit(O[i],profit_per_product))\n",
    "\n",
    "income = np.array(R)"
   ]
  },
  {
   "cell_type": "code",
   "execution_count": 12,
   "id": "87b8443f-3e00-45da-ab0f-297b56b39d2b",
   "metadata": {},
   "outputs": [
    {
     "data": {
      "text/plain": [
       "array([110.85, 238.9 ,  17.87])"
      ]
     },
     "execution_count": 12,
     "metadata": {},
     "output_type": "execute_result"
    }
   ],
   "source": [
    "O[np.argmax(income)]"
   ]
  },
  {
   "cell_type": "code",
   "execution_count": 13,
   "id": "23846a05-bf79-42b6-b48a-a90f8c720fb3",
   "metadata": {},
   "outputs": [
    {
     "data": {
      "text/plain": [
       "array([405.17, 248.5 , 799.83, 335.6 , 146.59])"
      ]
     },
     "execution_count": 13,
     "metadata": {},
     "output_type": "execute_result"
    }
   ],
   "source": [
    "I[np.argmax(income)]"
   ]
  },
  {
   "cell_type": "code",
   "execution_count": 14,
   "id": "a49a584f-7491-484e-a1d1-aaa7b1a73650",
   "metadata": {},
   "outputs": [
    {
     "data": {
      "text/plain": [
       "array([ 44.83,   1.5 ,   0.17, 114.4 , 453.41])"
      ]
     },
     "execution_count": 14,
     "metadata": {},
     "output_type": "execute_result"
    }
   ],
   "source": [
    "material_upper_bound-I[np.argmax(income)]"
   ]
  },
  {
   "cell_type": "code",
   "execution_count": 15,
   "id": "d033d1ff-0492-42c1-b0bf-e1322d0d5334",
   "metadata": {},
   "outputs": [
    {
     "data": {
      "text/plain": [
       "614.3169534783098"
      ]
     },
     "execution_count": 15,
     "metadata": {},
     "output_type": "execute_result"
    }
   ],
   "source": [
    "np.sum(material_upper_bound-I[np.argmax(income)]).tolist()"
   ]
  },
  {
   "cell_type": "code",
   "execution_count": 16,
   "id": "f4ca5363-7cc9-4107-a381-da4add3f2caf",
   "metadata": {},
   "outputs": [
    {
     "data": {
      "text/plain": [
       "25114.217426613355"
      ]
     },
     "execution_count": 16,
     "metadata": {},
     "output_type": "execute_result"
    }
   ],
   "source": [
    "income[np.argmax(income)].tolist()"
   ]
  },
  {
   "cell_type": "markdown",
   "id": "b4f64b92-a35b-4991-ba40-d8d6e43d67c1",
   "metadata": {},
   "source": [
    "# Multivariate Local Optimization"
   ]
  },
  {
   "cell_type": "code",
   "execution_count": 17,
   "id": "b6dac4c0-ef5c-43cb-9302-1d8ba3ac53cd",
   "metadata": {},
   "outputs": [],
   "source": [
    "from scipy import optimize"
   ]
  },
  {
   "cell_type": "code",
   "execution_count": 18,
   "id": "45ed5d78-95f6-462e-b11c-9d188c22cbc2",
   "metadata": {},
   "outputs": [],
   "source": [
    "B = optimize.Bounds(product_lower_bound,product_upper_bound)\n",
    "C = optimize.LinearConstraint(Q,material_lower_bound,material_upper_bound)\n",
    "\n",
    "H = lambda x,v: np.zeros((3,3))\n",
    "\n",
    "f = lambda x,y: -profit(x,y)\n",
    "T = optimize.minimize(f,np.zeros(3),args=(profit_per_product,),method='trust-constr',constraints=C,bounds=B,hess=H)"
   ]
  },
  {
   "cell_type": "code",
   "execution_count": 19,
   "id": "f75d46fe-411d-4c1c-9a41-01b61abb7eec",
   "metadata": {},
   "outputs": [
    {
     "data": {
      "text/plain": [
       "array([125.  , 235.42,   0.  ])"
      ]
     },
     "execution_count": 19,
     "metadata": {},
     "output_type": "execute_result"
    }
   ],
   "source": [
    "T.x"
   ]
  },
  {
   "cell_type": "code",
   "execution_count": 20,
   "id": "6c99cc1b-805a-4322-a42e-a876d834369e",
   "metadata": {},
   "outputs": [
    {
     "data": {
      "text/plain": [
       "array([422.92, 250.  , 800.  , 332.81, 125.  ])"
      ]
     },
     "execution_count": 20,
     "metadata": {},
     "output_type": "execute_result"
    }
   ],
   "source": [
    "Q.dot(T.x)"
   ]
  },
  {
   "cell_type": "code",
   "execution_count": 21,
   "id": "bd523968-4222-422d-9a61-8cfa1cb152c3",
   "metadata": {},
   "outputs": [
    {
     "data": {
      "text/plain": [
       "array([ 27.08,   0.  ,   0.  , 117.19, 475.  ])"
      ]
     },
     "execution_count": 21,
     "metadata": {},
     "output_type": "execute_result"
    }
   ],
   "source": [
    "material_upper_bound-Q.dot(T.x)"
   ]
  },
  {
   "cell_type": "code",
   "execution_count": 22,
   "id": "c299c9f1-2eaa-4ec6-92af-73e6486f9e23",
   "metadata": {},
   "outputs": [
    {
     "data": {
      "text/plain": [
       "619.2708903354736"
      ]
     },
     "execution_count": 22,
     "metadata": {},
     "output_type": "execute_result"
    }
   ],
   "source": [
    "np.sum(material_upper_bound-Q.dot(T.x)).tolist()"
   ]
  },
  {
   "cell_type": "code",
   "execution_count": 23,
   "id": "f261d9bb-4191-4241-a2b1-352441ed6bfc",
   "metadata": {},
   "outputs": [
    {
     "data": {
      "text/plain": [
       "25374.996799996854"
      ]
     },
     "execution_count": 23,
     "metadata": {},
     "output_type": "execute_result"
    }
   ],
   "source": [
    "profit(T.x,profit_per_product).tolist()"
   ]
  },
  {
   "cell_type": "markdown",
   "id": "bd43a589-7023-4919-bae2-3c07ce70fe3d",
   "metadata": {},
   "source": [
    "# Global Optimization"
   ]
  },
  {
   "cell_type": "code",
   "execution_count": 25,
   "id": "5a85804f-fc7b-4181-b76b-081f9bc56e20",
   "metadata": {},
   "outputs": [
    {
     "data": {
      "text/plain": [
       " message: Optimization terminated successfully.\n",
       " success: True\n",
       "     fun: -25375.00000010695\n",
       "    funl: [-2.538e+04 -2.538e+04 -2.537e+04 -2.444e+04 -2.444e+04]\n",
       "       x: [ 1.250e+02  2.354e+02  1.690e-10]\n",
       "      xl: [[ 1.250e+02  2.354e+02  1.690e-10]\n",
       "           [ 1.250e+02  2.354e+02  1.140e-10]\n",
       "           ...\n",
       "           [ 6.250e+01  2.510e+02  8.333e+01]\n",
       "           [ 6.250e+01  2.510e+02  8.333e+01]]\n",
       "     nit: 10\n",
       "    nfev: 313\n",
       "   nlfev: 250\n",
       "   nljev: 39\n",
       "   nlhev: 0"
      ]
     },
     "execution_count": 25,
     "metadata": {},
     "output_type": "execute_result"
    }
   ],
   "source": [
    "optimize.shgo(f,B,constraints=C,args=(profit_per_product,),iters=10)"
   ]
  },
  {
   "cell_type": "code",
   "execution_count": null,
   "id": "f70b876a-be39-42ae-bee0-a6ffd0539b27",
   "metadata": {},
   "outputs": [],
   "source": []
  }
 ],
 "metadata": {
  "kernelspec": {
   "display_name": "Python 3 (ipykernel)",
   "language": "python",
   "name": "python3"
  },
  "language_info": {
   "codemirror_mode": {
    "name": "ipython",
    "version": 3
   },
   "file_extension": ".py",
   "mimetype": "text/x-python",
   "name": "python",
   "nbconvert_exporter": "python",
   "pygments_lexer": "ipython3",
   "version": "3.12.4"
  }
 },
 "nbformat": 4,
 "nbformat_minor": 5
}
