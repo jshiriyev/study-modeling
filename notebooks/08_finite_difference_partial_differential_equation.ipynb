{
 "cells": [
  {
   "cell_type": "markdown",
   "id": "d3aca046-f0c9-4073-a1c2-1bbd3e8825d4",
   "metadata": {},
   "source": [
    "# Partial Differential Equation"
   ]
  },
  {
   "cell_type": "markdown",
   "id": "e29bd182-2211-4566-9a5d-932417ca8a0d",
   "metadata": {},
   "source": [
    "Obtain the approximate solution of the problem defined below using explicit and implicit methods:\n",
    "\n",
    "$$\n",
    "\\frac{\\partial^2u}{\\partial x^2} = \\frac{\\partial u}{\\partial t}\n",
    "$$\n",
    "\n",
    "For $0 \\le x \\le 1$, boundary conditions are given as: $u(0,t) = 0 $  and $u(1,t) = 1 $\n",
    "\n",
    "And at $t=0$, the $u$ values are defined as: $u(x,0) = x^2$,"
   ]
  },
  {
   "cell_type": "code",
   "execution_count": null,
   "id": "32ad3db7-6b5b-4d86-8b12-5ed320c072d6",
   "metadata": {},
   "outputs": [],
   "source": []
  },
  {
   "cell_type": "code",
   "execution_count": null,
   "id": "4d70bf5c-69a1-497e-8465-bebd7828574f",
   "metadata": {},
   "outputs": [],
   "source": []
  },
  {
   "cell_type": "code",
   "execution_count": null,
   "id": "7bbeb36d-403f-40d5-9404-7a0389d13bd0",
   "metadata": {},
   "outputs": [],
   "source": []
  },
  {
   "cell_type": "code",
   "execution_count": null,
   "id": "ff6e17bd-c400-485e-84b1-e480c752af4b",
   "metadata": {},
   "outputs": [],
   "source": []
  },
  {
   "cell_type": "code",
   "execution_count": null,
   "id": "ae1edc51-e17f-4248-bce5-61d124ebe325",
   "metadata": {},
   "outputs": [],
   "source": []
  },
  {
   "cell_type": "code",
   "execution_count": null,
   "id": "2139f716-d4f5-4c4e-b411-55cff7b8df7c",
   "metadata": {},
   "outputs": [],
   "source": []
  },
  {
   "cell_type": "code",
   "execution_count": null,
   "id": "5340cc29-b7be-4c69-82fa-c48aa02fe221",
   "metadata": {},
   "outputs": [],
   "source": []
  },
  {
   "cell_type": "code",
   "execution_count": null,
   "id": "b39d3a55-e87c-4c30-b386-d85c39cd63d3",
   "metadata": {},
   "outputs": [],
   "source": []
  },
  {
   "cell_type": "code",
   "execution_count": null,
   "id": "09eecdac-19f4-4fa5-a863-945a5c52f2eb",
   "metadata": {},
   "outputs": [],
   "source": []
  },
  {
   "cell_type": "code",
   "execution_count": null,
   "id": "fe0d2d1c-e1ce-4de4-b9a3-0dd87f3c71e4",
   "metadata": {},
   "outputs": [],
   "source": []
  },
  {
   "cell_type": "code",
   "execution_count": null,
   "id": "1b355552-5ca8-41f4-89a2-a30a52d6c1f7",
   "metadata": {},
   "outputs": [],
   "source": []
  },
  {
   "cell_type": "code",
   "execution_count": null,
   "id": "7cc2796d-d635-475b-95ad-bc1c84634222",
   "metadata": {},
   "outputs": [],
   "source": []
  },
  {
   "cell_type": "code",
   "execution_count": null,
   "id": "40f243ad-2b2c-4ad8-9c3a-9c16636a3483",
   "metadata": {},
   "outputs": [],
   "source": []
  },
  {
   "cell_type": "code",
   "execution_count": null,
   "id": "64e46571-1a5d-42a4-9aa6-bdb078861f12",
   "metadata": {},
   "outputs": [],
   "source": []
  },
  {
   "cell_type": "code",
   "execution_count": 13,
   "id": "ba81d58a-fbde-4b1d-8909-cce3ed9db0f9",
   "metadata": {},
   "outputs": [
    {
     "data": {
      "image/png": "[encoded data removed]",
      "text/plain": [
       "<Figure size 640x480 with 1 Axes>"
      ]
     },
     "metadata": {},
     "output_type": "display_data"
    }
   ],
   "source": [
    "import matplotlib.pyplot as plt\n",
    "\n",
    "import numpy as np\n",
    "\n",
    "L = 1\n",
    "T = 1\n",
    "\n",
    "Nx = 4\n",
    "Nt = 100\n",
    "\n",
    "dx = L/Nx\n",
    "dt = T/Nt\n",
    "\n",
    "x = np.arange(dx/2,L,dx)\n",
    "\n",
    "u = x**2\n",
    "\n",
    "beta = dt/dx**2\n",
    "\n",
    "A = np.zeros((Nx,Nx))\n",
    "b = np.zeros(Nx)\n",
    "\n",
    "for i in range(Nx):\n",
    "    \n",
    "    A[i,i] = 2*beta+1\n",
    "\n",
    "    if i>0:\n",
    "        A[i,i-1] = -beta\n",
    "    else:\n",
    "        A[i,i] += beta\n",
    "\n",
    "    if i<Nx-1:\n",
    "        A[i,i+1] = -beta\n",
    "    else:\n",
    "        A[i,i] += beta\n",
    "        b[i] = 2*beta\n",
    "\n",
    "U = np.zeros((Nx,Nt+1))\n",
    "\n",
    "U[:,0] = u.flatten()\n",
    "\n",
    "for j in range(Nt):\n",
    "    \n",
    "    u = np.linalg.solve(A,u+b)\n",
    "    \n",
    "    U[:,j+1] = u.flatten()\n",
    "\n",
    "plt.plot(x,U[:,0],\"b.\",label=\"Initial Time\")\n",
    "plt.plot(x,U[:,10],\"r.\",label=\"First Time Step\")\n",
    "plt.plot(x,U[:,-1],\"k.\",label=\"Latest Time\")\n",
    "\n",
    "plt.xlim((0,1))\n",
    "plt.ylim((0,1))\n",
    "\n",
    "plt.xlabel(\"x-axis\")\n",
    "plt.ylabel(\"u-values\")\n",
    "\n",
    "plt.legend()\n",
    "plt.show()"
   ]
  },
  {
   "cell_type": "code",
   "execution_count": null,
   "id": "a2d4c90e-610f-4c92-a797-e0d81abcca1a",
   "metadata": {},
   "outputs": [],
   "source": []
  }
 ],
 "metadata": {
  "kernelspec": {
   "display_name": "Python 3 (ipykernel)",
   "language": "python",
   "name": "python3"
  },
  "language_info": {
   "codemirror_mode": {
    "name": "ipython",
    "version": 3
   },
   "file_extension": ".py",
   "mimetype": "text/x-python",
   "name": "python",
   "nbconvert_exporter": "python",
   "pygments_lexer": "ipython3",
   "version": "3.12.4"
  }
 },
 "nbformat": 4,
 "nbformat_minor": 5
}
