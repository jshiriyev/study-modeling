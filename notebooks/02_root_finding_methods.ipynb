{
 "cells": [
  {
   "cell_type": "code",
   "execution_count": 1,
   "id": "be52c4ad-d914-4708-92d6-33291aa9c76a",
   "metadata": {},
   "outputs": [],
   "source": [
    "import numpy as np"
   ]
  },
  {
   "cell_type": "code",
   "execution_count": 2,
   "id": "9db0f15b-6b2e-4264-bfbc-320e8a91bec0",
   "metadata": {},
   "outputs": [],
   "source": [
    "import time"
   ]
  },
  {
   "cell_type": "code",
   "execution_count": 3,
   "id": "d54c4087-ec39-4097-859a-f1c0d11f3907",
   "metadata": {},
   "outputs": [],
   "source": [
    "from scipy import optimize"
   ]
  },
  {
   "cell_type": "markdown",
   "id": "43d84087-ddda-462c-8eb3-07aad8792eeb",
   "metadata": {},
   "source": [
    "# Root Finding Methods"
   ]
  },
  {
   "cell_type": "markdown",
   "id": "9b5bf472-595e-4c61-88ad-fe2b38bc9d82",
   "metadata": {},
   "source": [
    "Given a nonlinear function $f$, we seek a value $x$ for which $f(x)=0$."
   ]
  },
  {
   "cell_type": "markdown",
   "id": "07fa3d8e-6b4e-4f70-8733-22629b3c160f",
   "metadata": {},
   "source": [
    "## Bisection Method"
   ]
  },
  {
   "cell_type": "markdown",
   "id": "1be183cf-1d65-4e8b-8d3b-abe8842ed159",
   "metadata": {},
   "source": [
    "The bisection method begins with an initial bracket and successively reduces its length until the solution has been isolated as accurately as desired. At each iteration, the function is evaluated at the midpoint of the current interval, and half of the interval can then be discarded, depending on the sign of the function at the midpoint."
   ]
  },
  {
   "cell_type": "code",
   "execution_count": 17,
   "id": "44aa1182-5f5d-4896-8a78-bb82456adb9a",
   "metadata": {},
   "outputs": [],
   "source": [
    "def bisection(func,lower,upper,tol=1e-5,func_args=None):\n",
    "\n",
    "    f_lower = func(lower,*(func_args or ()))\n",
    "    f_upper = func(upper,*(func_args or ()))\n",
    "\n",
    "    calls = 2\n",
    "\n",
    "    while (upper-lower)>tol:\n",
    "\n",
    "        middle = (lower+upper)/2\n",
    "\n",
    "        f_middle = func(middle,*(func_args or ()))\n",
    "\n",
    "        print(f\"{calls:2} {lower:8.6f},{f_lower:8.6f},{upper:8.6f},{f_upper:8.6f}\")\n",
    "\n",
    "        calls += 1\n",
    "\n",
    "        if f_middle*f_lower<0:\n",
    "            upper,f_upper = middle,f_middle\n",
    "        elif f_middle*f_upper<0:\n",
    "            lower,f_lower = middle,f_middle\n",
    "        else:\n",
    "            info = \"Either there is no root or even number of roots.\"\n",
    "            middle,f_middle = float('nan'),float('nan')\n",
    "            break\n",
    "    else:\n",
    "\n",
    "        info = f\"Found a root after {calls} iterations.\"\n",
    "\n",
    "    return middle, f_middle"
   ]
  },
  {
   "cell_type": "code",
   "execution_count": 18,
   "id": "8874c249-64d6-47e2-98ca-10e79f863a5b",
   "metadata": {},
   "outputs": [],
   "source": [
    "def f(x):\n",
    "    return x**2-4*np.sin(x)"
   ]
  },
  {
   "cell_type": "code",
   "execution_count": 21,
   "id": "def8f6b6-318c-4480-8a9c-b8a91effea27",
   "metadata": {},
   "outputs": [
    {
     "name": "stdout",
     "output_type": "stream",
     "text": [
      " 2 1.000000,-2.365884,3.000000,8.435520\n",
      " 3 1.000000,-2.365884,2.000000,0.362810\n",
      " 4 1.500000,-1.739980,2.000000,0.362810\n",
      " 5 1.750000,-0.873444,2.000000,0.362810\n",
      " 6 1.875000,-0.300718,2.000000,0.362810\n",
      " 7 1.875000,-0.300718,1.937500,0.019849\n",
      " 8 1.906250,-0.143255,1.937500,0.019849\n",
      " 9 1.921875,-0.062406,1.937500,0.019849\n",
      "10 1.929688,-0.021454,1.937500,0.019849\n",
      "11 1.933594,-0.000846,1.937500,0.019849\n",
      "12 1.933594,-0.000846,1.935547,0.009491\n",
      "13 1.933594,-0.000846,1.934570,0.004320\n",
      "14 1.933594,-0.000846,1.934082,0.001736\n",
      "15 1.933594,-0.000846,1.933838,0.000445\n",
      "16 1.933716,-0.000201,1.933838,0.000445\n",
      "17 1.933716,-0.000201,1.933777,0.000122\n",
      "18 1.933746,-0.000039,1.933777,0.000122\n",
      "19 1.933746,-0.000039,1.933762,0.000041\n",
      "20 1.933746,-0.000039,1.933754,0.000001\n",
      "21 1.933750,-0.000019,1.933754,0.000001\n",
      "22 1.933752,-0.000009,1.933754,0.000001\n",
      "23 1.933753,-0.000004,1.933754,0.000001\n",
      "24 1.933753,-0.000001,1.933754,0.000001\n",
      "25 1.933754,-0.000000,1.933754,0.000001\n",
      "26 1.933754,-0.000000,1.933754,0.000000\n"
     ]
    },
    {
     "data": {
      "text/plain": [
       "(1.933753788471222, np.float64(1.3559806477658753e-07))"
      ]
     },
     "execution_count": 21,
     "metadata": {},
     "output_type": "execute_result"
    }
   ],
   "source": [
    "bisection(f,1,3,tol=1e-7)"
   ]
  },
  {
   "cell_type": "markdown",
   "id": "e8472365-ed31-49d5-9e12-d20685e39361",
   "metadata": {},
   "source": [
    "## Fixed Point Iteration"
   ]
  },
  {
   "cell_type": "markdown",
   "id": "5ca6e1ad-2585-4739-ad7f-39008ea385d4",
   "metadata": {},
   "source": [
    "A nonlinear equation can often be recast as a $x=g(x)$ for a related nonlinear function $f(x)=0$, and the solution is based on iteration schemes of the form $x_{k+1}=g(x_k)$. Here, $g$ is a **suitably** chosen function whose fixed points are solutions for $f(x)=0$. Note that $x=g(x)$ is a fixed point of the function $g$, since $x$ is unchanged when $g$ is applied to it."
   ]
  },
  {
   "cell_type": "code",
   "execution_count": 29,
   "id": "a6a47d77-01b4-41b1-b37a-aeba70d801e8",
   "metadata": {},
   "outputs": [],
   "source": [
    "def fixed(f,g,x0,tol=1e-6,maxiter=100):\n",
    "\n",
    "    xn = x0\n",
    "    \n",
    "    for i in range(maxiter):\n",
    "        xn = g(xn)\n",
    "    \n",
    "        if abs(f(xn))<tol:\n",
    "            break\n",
    "    \n",
    "        print(i,xn,f(xn))\n",
    "    else:\n",
    "        print(\"Could not converge to a solution\")"
   ]
  },
  {
   "cell_type": "markdown",
   "id": "7ad39fdf-5bbf-402f-8221-3f5f7d75feef",
   "metadata": {},
   "source": [
    "For the nonlinear equation:"
   ]
  },
  {
   "cell_type": "code",
   "execution_count": 30,
   "id": "82874655-1755-4da9-a13d-87deeaee197c",
   "metadata": {},
   "outputs": [],
   "source": [
    "def f(x):\n",
    "  return x**2-x-2"
   ]
  },
  {
   "cell_type": "markdown",
   "id": "aee789cf-b9d4-4e87-a1df-b56981b68897",
   "metadata": {},
   "source": [
    "any of the choices"
   ]
  },
  {
   "cell_type": "code",
   "execution_count": 31,
   "id": "37f744cb-9ffb-49ee-8ba0-0fd1c8e80bbe",
   "metadata": {},
   "outputs": [],
   "source": [
    "g1 = lambda x: x**2-2"
   ]
  },
  {
   "cell_type": "code",
   "execution_count": 32,
   "id": "7fafd564-34d4-47dc-a2a5-7a932b3ef70d",
   "metadata": {},
   "outputs": [],
   "source": [
    "g2 = lambda x: (x+2)**(1/2)"
   ]
  },
  {
   "cell_type": "code",
   "execution_count": 33,
   "id": "dfb570fd-9ead-469f-a97a-c91a87a0a453",
   "metadata": {},
   "outputs": [],
   "source": [
    "g3 = lambda x: 1+2/x"
   ]
  },
  {
   "cell_type": "code",
   "execution_count": 34,
   "id": "1324fd5f-d584-4884-bb35-f62e3bd8e251",
   "metadata": {},
   "outputs": [],
   "source": [
    "g4 = lambda x: (x**2+2)/(2*x-1)"
   ]
  },
  {
   "cell_type": "code",
   "execution_count": 39,
   "id": "03dd594b-470d-40a6-9530-879dce36c057",
   "metadata": {},
   "outputs": [
    {
     "name": "stdout",
     "output_type": "stream",
     "text": [
      "0 11.800000000000002 125.44000000000007\n",
      "1 6.2495575221238955 30.807411700211468\n",
      "2 3.5704459920916536 7.177638590351698\n",
      "3 2.401619279483995 1.3661558841052277\n",
      "4 2.042410709492021 0.1290307967556794\n",
      "5 2.0005830704716154 0.0017495513860210643\n"
     ]
    }
   ],
   "source": [
    "fixed(f,g4,0.6,tol=1e-6,maxiter=100)"
   ]
  },
  {
   "cell_type": "markdown",
   "id": "d92eb8cf-ba11-44ff-b91d-8a0538872f13",
   "metadata": {},
   "source": [
    "## Newton's Method"
   ]
  },
  {
   "cell_type": "markdown",
   "id": "b22de26e-3432-4c7e-912c-f96f16468292",
   "metadata": {},
   "source": [
    "More rapidly convergent methods can be derived by using the function values to obtain a more accurate approximation to the solution at each iteration."
   ]
  },
  {
   "cell_type": "code",
   "execution_count": 50,
   "id": "2bb8b054-fe8e-4eb0-848b-d7ba2255cfc5",
   "metadata": {},
   "outputs": [],
   "source": [
    "def newton(func,prime,x0,tol=1e-5,maxiter=100,func_args=None,prime_args=None):\n",
    "    \n",
    "    calls = 0\n",
    "\n",
    "    f = func(x0,*(func_args or ()))\n",
    "    p = prime(x0,*(prime_args or ()))\n",
    "\n",
    "    calls += 1\n",
    "\n",
    "    xn = x0\n",
    "      \n",
    "    for n in range(maxiter):\n",
    "\n",
    "        print(f\"{calls:2} {xn:8.6f},{f:8.6f},{p:8.6f},{f/p:8.6f}\")\n",
    "\n",
    "        xn -= f/p\n",
    "\n",
    "        f = func(xn,*(func_args or ()))\n",
    "        p = prime(xn,*(prime_args or ()))\n",
    "\n",
    "        calls += 1\n",
    "\n",
    "        if abs(f) < tol:\n",
    "            print('Found solution after',calls,'iterations!')\n",
    "            return xn\n",
    "    else:\n",
    "        print('Exceeded maximum iterations. No solution found.')\n",
    "\n",
    "    info = f\"Converged after {calls} calls.\"\n",
    "\n",
    "    return xn,f"
   ]
  },
  {
   "cell_type": "code",
   "execution_count": 51,
   "id": "fde153b4-52d5-4740-a6e2-4095b44f4aa0",
   "metadata": {},
   "outputs": [],
   "source": [
    "def f(x):\n",
    "    return x**2-4*np.sin(x)"
   ]
  },
  {
   "cell_type": "code",
   "execution_count": 52,
   "id": "b41c0aa5-589f-4bde-8bd2-9ef855463b50",
   "metadata": {},
   "outputs": [],
   "source": [
    "def p(x):\n",
    "    return 2*x-4*np.cos(x)"
   ]
  },
  {
   "cell_type": "code",
   "execution_count": 54,
   "id": "20813df0-6564-48df-9eb0-1ecd39d01da4",
   "metadata": {},
   "outputs": [
    {
     "name": "stdout",
     "output_type": "stream",
     "text": [
      " 1 3.000000,8.435520,9.959970,0.846942\n",
      " 2 2.153058,1.294773,6.505772,0.199019\n",
      " 3 1.954039,0.108439,5.403795,0.020067\n",
      " 4 1.933972,0.001152,5.288920,0.000218\n",
      "Found solution after 5 iterations!\n"
     ]
    },
    {
     "data": {
      "text/plain": [
       "np.float64(1.933753788557627)"
      ]
     },
     "execution_count": 54,
     "metadata": {},
     "output_type": "execute_result"
    }
   ],
   "source": [
    "newton(f,p,3.,1e-6,100)"
   ]
  },
  {
   "cell_type": "markdown",
   "id": "87adaa98-5df0-430d-b5b7-d5a20ee36b48",
   "metadata": {},
   "source": [
    "## Secant Method"
   ]
  },
  {
   "cell_type": "code",
   "execution_count": 4,
   "id": "3a0a579b-0c62-47d8-8444-efc9c2125879",
   "metadata": {},
   "outputs": [],
   "source": [
    "class secant():\n",
    "\n",
    "    def __init__(self,func,x0,x1,tol=1e-5,args=None):\n",
    "\n",
    "        self.x0 = x0\n",
    "        self.x1 = x1\n",
    "\n",
    "        self.tol = tol\n",
    "\n",
    "        self.calls = 0\n",
    "\n",
    "        if args is None:\n",
    "            args = []\n",
    "\n",
    "        self._iterate(func,args)\n",
    "\n",
    "    def _iterate(self,func,args):\n",
    "\n",
    "        x0,x1 = self.x0,self.x1\n",
    "\n",
    "        y0 = func(x0,*args)\n",
    "\n",
    "        self.calls += 1\n",
    "\n",
    "        # print(f\"{self.calls:2} {x0:8.6f},{y0:8.6f}\")\n",
    "\n",
    "        y1 = func(x1,*args)\n",
    "\n",
    "        self.calls += 1\n",
    "\n",
    "        d1 = (y1-y0)/(x1-x0)\n",
    "\n",
    "        while abs(y1/d1)>self.tol:\n",
    "\n",
    "            # print(f\"{self.calls:2} {x1:8.6f},{y1:8.6f},{y1/d1:8.6f}\")\n",
    "\n",
    "            x2 = x1-y1/d1\n",
    "\n",
    "            y2 = func(x2,*args)\n",
    "\n",
    "            self.calls += 1\n",
    "\n",
    "            x0,y0 = x1,y1\n",
    "            x1,y1 = x2,y2\n",
    "\n",
    "            d1 = (y1-y0)/(x1-x0)\n",
    "\n",
    "        self.value = x1\n",
    "\n",
    "        self.minima = y1"
   ]
  },
  {
   "cell_type": "code",
   "execution_count": 55,
   "id": "886a6624-d3cd-427b-b15c-483ce3a9cf59",
   "metadata": {},
   "outputs": [],
   "source": [
    "def t1(x):\n",
    "    return x**2-2*x+1\n",
    "\n",
    "def t2(x):\n",
    "    return 2*x-2"
   ]
  },
  {
   "cell_type": "code",
   "execution_count": 56,
   "id": "955dd8dc-7091-44c2-a974-e486a8c10d0e",
   "metadata": {},
   "outputs": [],
   "source": [
    "def objective1(x):\n",
    "    return x**3-x-2\n",
    "\n",
    "def objective3(x):\n",
    "    return x**2-4*x+4"
   ]
  },
  {
   "cell_type": "code",
   "execution_count": null,
   "id": "0a433eaa-2481-4a4a-84bd-f6026fefa3ea",
   "metadata": {},
   "outputs": [],
   "source": [
    "optimize.root_scalar(f,method='bisect',bracket=[0,2])"
   ]
  }
 ],
 "metadata": {
  "kernelspec": {
   "display_name": "Python 3 (ipykernel)",
   "language": "python",
   "name": "python3"
  },
  "language_info": {
   "codemirror_mode": {
    "name": "ipython",
    "version": 3
   },
   "file_extension": ".py",
   "mimetype": "text/x-python",
   "name": "python",
   "nbconvert_exporter": "python",
   "pygments_lexer": "ipython3",
   "version": "3.12.4"
  }
 },
 "nbformat": 4,
 "nbformat_minor": 5
}
