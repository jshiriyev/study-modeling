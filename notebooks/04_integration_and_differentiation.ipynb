{
 "cells": [
  {
   "cell_type": "code",
   "execution_count": 1,
   "id": "eb3b1c07-d5fa-49bb-960d-8219e026ba7e",
   "metadata": {},
   "outputs": [
    {
     "ename": "ImportError",
     "evalue": "cannot import name 'simps' from 'scipy.integrate' (C:\\Users\\Javid.Shiriyev\\AppData\\Local\\Programs\\Python\\Python312\\Lib\\site-packages\\scipy\\integrate\\__init__.py)",
     "output_type": "error",
     "traceback": [
      "\u001b[1;31m---------------------------------------------------------------------------\u001b[0m",
      "\u001b[1;31mImportError\u001b[0m                               Traceback (most recent call last)",
      "Cell \u001b[1;32mIn[1], line 9\u001b[0m\n\u001b[0;32m      7\u001b[0m \u001b[38;5;28;01mfrom\u001b[39;00m \u001b[38;5;21;01mscipy\u001b[39;00m\u001b[38;5;21;01m.\u001b[39;00m\u001b[38;5;21;01mintegrate\u001b[39;00m \u001b[38;5;28;01mimport\u001b[39;00m quad\n\u001b[0;32m      8\u001b[0m \u001b[38;5;28;01mfrom\u001b[39;00m \u001b[38;5;21;01mscipy\u001b[39;00m\u001b[38;5;21;01m.\u001b[39;00m\u001b[38;5;21;01mintegrate\u001b[39;00m \u001b[38;5;28;01mimport\u001b[39;00m trapezoid\n\u001b[1;32m----> 9\u001b[0m \u001b[38;5;28;01mfrom\u001b[39;00m \u001b[38;5;21;01mscipy\u001b[39;00m\u001b[38;5;21;01m.\u001b[39;00m\u001b[38;5;21;01mintegrate\u001b[39;00m \u001b[38;5;28;01mimport\u001b[39;00m simps\n",
      "\u001b[1;31mImportError\u001b[0m: cannot import name 'simps' from 'scipy.integrate' (C:\\Users\\Javid.Shiriyev\\AppData\\Local\\Programs\\Python\\Python312\\Lib\\site-packages\\scipy\\integrate\\__init__.py)"
     ]
    }
   ],
   "source": [
    "import types\n",
    "\n",
    "import numpy as np\n",
    "\n",
    "import matplotlib.pyplot as plt\n",
    "\n",
    "from scipy.integrate import quad\n",
    "from scipy.integrate import trapezoid\n",
    "from scipy.integrate import simps"
   ]
  },
  {
   "cell_type": "code",
   "execution_count": 2,
   "id": "1eb4fa76-9028-40ed-98cf-9be1cce3c660",
   "metadata": {},
   "outputs": [],
   "source": [
    "def midpoint(f,x=None,bounds=(0,1),Nsample=100):\n",
    "\n",
    "    if x is None:\n",
    "        x = np.linspace(*bounds,Nsample)\n",
    "\n",
    "    xmids = (xbnds[1:]+xbnds[:-1])/2\n",
    "\n",
    "    if isinstance(f,types.FunctionType):\n",
    "        ymids = f(xmids)\n",
    "    else:\n",
    "        ymids = (f[1:]+f[:-1])/2\n",
    "\n",
    "    xdiff = (x[1:]-x[:-1])\n",
    "\n",
    "    Inum = np.sum(ymids*xdiff)\n",
    "\n",
    "    return Inum"
   ]
  },
  {
   "cell_type": "code",
   "execution_count": 3,
   "id": "69a3e166-d40a-4865-98e9-dabb7f810ed5",
   "metadata": {},
   "outputs": [],
   "source": [
    "def simpson(f,x=None,bounds=(0,1),Nsample=100):\n",
    "\n",
    "    if x is None:\n",
    "        xbnds = np.linspace(*bounds,Nsample)\n",
    "    else:\n",
    "        xbnds = x\n",
    "\n",
    "    xmids = (xbnds[1:]+xbnds[:-1])/2\n",
    "\n",
    "    if isinstance(f,types.FunctionType):\n",
    "        ybnds = f(xbnds)\n",
    "        ymids = f(xmids)\n",
    "    else:\n",
    "        ybnds = f\n",
    "        ymids = (f[1:]+f[:-1])/2\n",
    "\n",
    "    xdiff = (xbnds[1:]-xbnds[:-1])\n",
    "\n",
    "    I1 = ybnds[:-1]*xdiff/6\n",
    "    I2 = ymids*4*xdiff/6\n",
    "    I3 = ybnds[1:]*xdiff/6\n",
    "\n",
    "    Inum = np.sum(I1)+np.sum(I2)+np.sum(I3)\n",
    "\n",
    "    return Inum"
   ]
  },
  {
   "cell_type": "code",
   "execution_count": 4,
   "id": "35621d23-441b-47fa-988b-a3b492bc8efe",
   "metadata": {},
   "outputs": [],
   "source": [
    "def trapezoid(f,x=None,bounds=(0,1),Nsample=100):\n",
    "\n",
    "    if x is None:\n",
    "        x = np.linspace(*bounds,Nsample)\n",
    "\n",
    "    if isinstance(f,types.FunctionType):\n",
    "        y = f(x)\n",
    "    else:\n",
    "        y = f\n",
    "\n",
    "    xdiff = (x[1:]-x[:-1])\n",
    "    ymids = (y[1:]+y[:-1])/2\n",
    "\n",
    "    Inum = np.sum(ymids*xdiff)\n",
    "\n",
    "    return Inum"
   ]
  },
  {
   "cell_type": "code",
   "execution_count": 5,
   "id": "041382c3-3bcf-46ec-88b0-1002f7df0cf4",
   "metadata": {},
   "outputs": [
    {
     "ename": "NameError",
     "evalue": "name 'simps' is not defined",
     "output_type": "error",
     "traceback": [
      "\u001b[1;31m---------------------------------------------------------------------------\u001b[0m",
      "\u001b[1;31mNameError\u001b[0m                                 Traceback (most recent call last)",
      "Cell \u001b[1;32mIn[5], line 10\u001b[0m\n\u001b[0;32m      8\u001b[0m Iq \u001b[38;5;241m=\u001b[39m quad(integrand,\u001b[38;5;241m1\u001b[39m,\u001b[38;5;241m2\u001b[39m)\n\u001b[0;32m      9\u001b[0m It \u001b[38;5;241m=\u001b[39m trapezoid(y,x)\n\u001b[1;32m---> 10\u001b[0m Is \u001b[38;5;241m=\u001b[39m \u001b[43msimps\u001b[49m(y,x)\n\u001b[0;32m     12\u001b[0m Itm \u001b[38;5;241m=\u001b[39m mytrapezoid(integrand,bounds\u001b[38;5;241m=\u001b[39m(\u001b[38;5;241m1\u001b[39m,\u001b[38;5;241m2\u001b[39m))\n\u001b[0;32m     13\u001b[0m Ism \u001b[38;5;241m=\u001b[39m mysimpson(integrand,bounds\u001b[38;5;241m=\u001b[39m(\u001b[38;5;241m1\u001b[39m,\u001b[38;5;241m2\u001b[39m))\n",
      "\u001b[1;31mNameError\u001b[0m: name 'simps' is not defined"
     ]
    }
   ],
   "source": [
    "def integrand(x):\n",
    "    return 1/(1+x**2)\n",
    "\n",
    "x = np.linspace(1,2,100)\n",
    "\n",
    "y = integrand(x)\n",
    "\n",
    "Iq = quad(integrand,1,2)\n",
    "It = trapezoid(y,x)\n",
    "Is = simps(y,x)\n",
    "\n",
    "Itm = mytrapezoid(integrand,bounds=(1,2))\n",
    "Ism = mysimpson(integrand,bounds=(1,2))\n",
    "\n",
    "Iactual = np.arctan(2)-np.arctan(1)\n",
    "\n",
    "## Exercise 2\n",
    "\n",
    "##x = np.array([0,1.1,2.5,3.1,4.3,5.6,5.9,7.2,7.8,7.9,8.3,8.9,9.3,9.6,10.])\n",
    "##y = np.array([0.5,0.691,0.845,0.880,0.896,0.846,0.826,0.714,0.652,0.642,0.598,0.533,0.489,0.457,0.414])\n",
    "##\n",
    "##It = trapezoid(y,x)\n",
    "##Is = simps(y,x)\n",
    "\n",
    "print(\"Scipy Quad gives {}\".format(Iq))\n",
    "print(\"SciPy Trapezoid gives {} and myTrapezoid gives {}\".format(It,Itm))\n",
    "print(\"SciPy Simpson gives {} and mySimpson gives {}\".format(Is,Ism))\n",
    "print(\"True result is {}\".format(Iactual))"
   ]
  },
  {
   "cell_type": "code",
   "execution_count": null,
   "id": "8ab299c5-b340-4b4d-b04b-48e6253e2678",
   "metadata": {},
   "outputs": [],
   "source": []
  }
 ],
 "metadata": {
  "kernelspec": {
   "display_name": "Python 3 (ipykernel)",
   "language": "python",
   "name": "python3"
  },
  "language_info": {
   "codemirror_mode": {
    "name": "ipython",
    "version": 3
   },
   "file_extension": ".py",
   "mimetype": "text/x-python",
   "name": "python",
   "nbconvert_exporter": "python",
   "pygments_lexer": "ipython3",
   "version": "3.12.4"
  }
 },
 "nbformat": 4,
 "nbformat_minor": 5
}
