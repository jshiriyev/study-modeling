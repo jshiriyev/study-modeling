{
 "cells": [
  {
   "cell_type": "code",
   "execution_count": 1,
   "id": "af0ce194-d2ff-44c1-9d7d-afbacacfcb39",
   "metadata": {},
   "outputs": [],
   "source": [
    "import matplotlib.pyplot as plt\n",
    "import numpy as np"
   ]
  },
  {
   "cell_type": "markdown",
   "id": "4cf5c8cf-4091-413f-9d91-14bb7f532339",
   "metadata": {},
   "source": [
    "The **Laplace equation** is a second-order partial differential equation (PDE) widely used in engineering, physics, and mathematics to describe steady-state processes, such as heat conduction, electrostatics, and fluid flow. In two dimensions, the Laplace equation is given by:\n",
    "\n",
    "$$\n",
    "\\nabla^2 u(x, y) = \\frac{\\partial^2 u}{\\partial x^2} + \\frac{\\partial^2 u}{\\partial y^2} = 0\n",
    "$$\n",
    "\n",
    "where $ u(x, y) $ is the unknown scalar field (e.g., temperature, potential), and $ (x, y) $ represents spatial coordinates in a 2D domain.\n",
    "\n",
    "The goal is to find the distribution of $ u(x, y) $ in a specified region under given **boundary conditions**."
   ]
  },
  {
   "cell_type": "markdown",
   "id": "3cae1940-f775-4dd1-8d85-f70c74b35b64",
   "metadata": {},
   "source": [
    "## Boundary Conditions"
   ]
  },
  {
   "cell_type": "markdown",
   "id": "94fe96f6-b3ab-4d40-8300-7b785290cd67",
   "metadata": {},
   "source": [
    "To solve the Laplace equation, appropriate boundary conditions must be applied on the edges of the domain. We will allow the user to define **mixed boundary conditions**, including:\n",
    "\n",
    "- **Dirichlet boundary condition**: The value of $ u $ is specified on the boundary (e.g., $ u = f(x, y) $).\n",
    "- **Neumann boundary condition**: The derivative of $ u $ normal to the boundary is specified (e.g., $ \\frac{\\partial u}{\\partial n} = g(x, y) $).\n",
    "- **Mixed boundary condition**: A combination of Dirichlet and Neumann conditions (e.g., $ \\alpha u + \\beta \\frac{\\partial u}{\\partial n} = \\gamma $).\n",
    "\n",
    "In the upcoming sections, we will build a Python implementation that lets the user flexibly define which type of boundary condition to apply on each edge of the 2D domain.\n"
   ]
  },
  {
   "cell_type": "markdown",
   "id": "8be554d4-a821-4e9d-aa71-7da2b8b648b8",
   "metadata": {},
   "source": [
    "## Finite Difference Discretization"
   ]
  },
  {
   "cell_type": "markdown",
   "id": "4608b87d-861e-42c7-b3e1-b8eeba283dbf",
   "metadata": {},
   "source": [
    "To numerically solve this equation, we discretize the 2D domain using a regular grid and approximate the second-order derivatives using finite differences. The standard five-point stencil for the Laplace equation at a grid point $ (i, j) $ is:\n",
    "\n",
    "$$\n",
    "\\frac{u_{i+1,j} - 2u_{i,j} + u_{i-1,j}}{\\Delta x^2} + \\frac{u_{i,j+1} - 2u_{i,j} + u_{i,j-1}}{\\Delta y^2} = 0\n",
    "$$\n",
    "\n",
    "which simplifies to:\n",
    "\n",
    "$$\n",
    "\\frac{u_{i,j-1}}{\\Delta y^2} + \\frac{u_{i-1,j}}{\\Delta x^2} -\\left( \\frac{2}{\\Delta x^2} + \\frac{2}{\\Delta y^2} \\right)u_{i,j} + \\frac{u_{i+1,j}}{\\Delta x^2} + \\frac{u_{i,j+1}}{\\Delta y^2} = 0\n",
    "$$\n",
    "\n",
    "This forms a system of linear equations that can be solved iteratively or using direct methods."
   ]
  },
  {
   "cell_type": "markdown",
   "id": "54c5e3da-954e-4eeb-a67f-5aef0ab3bd29",
   "metadata": {},
   "source": [
    "## Small example"
   ]
  },
  {
   "cell_type": "raw",
   "id": "6bdffe32-b84c-4ebd-862c-3a7360ccc6e0",
   "metadata": {},
   "source": [
    "+--------+--------+--------+\n",
    "| 6(0,2) | 7(1,2) | 8(2,2) |\n",
    "+--------+--------+--------+\n",
    "| 3(0,1) | 4(1,1) | 5(2,1) |\n",
    "+--------+--------+--------+\n",
    "| 0(0,0) | 1(1,0) | 2(2,0) |\n",
    "+--------+--------+--------+"
   ]
  },
  {
   "cell_type": "markdown",
   "id": "d12e71e1-b6f2-4295-b3cd-4d77ec27e4bd",
   "metadata": {},
   "source": [
    "Equation #1: $\n",
    "\\frac{1}{\\Delta y^2}u_{0,-1} + \\frac{1}{\\Delta x^2}u_{-1,0} - \\left( \\frac{2}{\\Delta x^2} + \\frac{2}{\\Delta y^2} \\right)u_{0,0} + \\frac{1}{\\Delta x^2}u_{1, 0} + \\frac{1}{\\Delta y^2}u_{ 0,1} = 0\n",
    "$\n",
    "\n",
    "Equation #2: $\n",
    "\\frac{1}{\\Delta y^2}u_{1,-1} + \\frac{1}{\\Delta x^2}u_{ 0,0} - \\left( \\frac{2}{\\Delta x^2} + \\frac{2}{\\Delta y^2} \\right)u_{1,0} + \\frac{1}{\\Delta x^2}u_{2, 0} + \\frac{1}{\\Delta y^2}u_{ 1,1} = 0\n",
    "$\n",
    "\n",
    "Equation #3: $\n",
    "\\frac{1}{\\Delta y^2}u_{2,-1} + \\frac{1}{\\Delta x^2}u_{ 1,0} - \\left( \\frac{2}{\\Delta x^2} + \\frac{2}{\\Delta y^2} \\right)u_{2,0} + \\frac{1}{\\Delta x^2}u_{3, 0} + \\frac{1}{\\Delta y^2}u_{ 2,1} = 0\n",
    "$\n",
    "\n",
    "Equation #4: $\n",
    "\\frac{1}{\\Delta y^2}u_{0, 0} + \\frac{1}{\\Delta x^2}u_{-1,1} - \\left( \\frac{2}{\\Delta x^2} + \\frac{2}{\\Delta y^2} \\right)u_{0,1} + \\frac{1}{\\Delta x^2}u_{1, 1} + \\frac{1}{\\Delta y^2}u_{ 0,2} = 0\n",
    "$\n",
    "\n",
    "Equation #5: $\n",
    "\\frac{1}{\\Delta y^2}u_{1, 0} + \\frac{1}{\\Delta x^2}u_{ 0,1} - \\left( \\frac{2}{\\Delta x^2} + \\frac{2}{\\Delta y^2} \\right)u_{1,1} + \\frac{1}{\\Delta x^2}u_{2, 1} + \\frac{1}{\\Delta y^2}u_{ 1,2} = 0\n",
    "$\n",
    "\n",
    "Equation #6: $\n",
    "\\frac{1}{\\Delta y^2}u_{2, 0} + \\frac{1}{\\Delta x^2}u_{ 1,1} - \\left( \\frac{2}{\\Delta x^2} + \\frac{2}{\\Delta y^2} \\right)u_{2,1} + \\frac{1}{\\Delta x^2}u_{3, 1} + \\frac{1}{\\Delta y^2}u_{ 2,2} = 0\n",
    "$\n",
    "\n",
    "Equation #7: $\n",
    "\\frac{1}{\\Delta y^2}u_{0, 1} + \\frac{1}{\\Delta x^2}u_{-1,2} - \\left( \\frac{2}{\\Delta x^2} + \\frac{2}{\\Delta y^2} \\right)u_{0,2} + \\frac{1}{\\Delta x^2}u_{1, 2} + \\frac{1}{\\Delta y^2}u_{ 0,3} = 0\n",
    "$\n",
    "\n",
    "Equation #8: $\n",
    "\\frac{1}{\\Delta y^2}u_{1, 1} + \\frac{1}{\\Delta x^2}u_{ 0,2} - \\left( \\frac{2}{\\Delta x^2} + \\frac{2}{\\Delta y^2} \\right)u_{1,2} + \\frac{1}{\\Delta x^2}u_{2, 2} + \\frac{1}{\\Delta y^2}u_{ 1,3} = 0\n",
    "$\n",
    "\n",
    "Equation #9: $\n",
    "\\frac{1}{\\Delta y^2}u_{2, 1} + \\frac{1}{\\Delta x^2}u_{ 1,2} - \\left( \\frac{2}{\\Delta x^2} + \\frac{2}{\\Delta y^2} \\right)u_{2,2} + \\frac{1}{\\Delta x^2}u_{3, 2} + \\frac{1}{\\Delta y^2}u_{ 2,3} = 0\n",
    "$"
   ]
  },
  {
   "cell_type": "markdown",
   "id": "9375b19b-3e5a-4e91-9685-f495cb680a2a",
   "metadata": {},
   "source": [
    "Note that not all of them are real entities and needs to be replaced by using boundary conditions."
   ]
  },
  {
   "cell_type": "code",
   "execution_count": 3,
   "id": "3d116d72-29be-467c-8836-33e2a05a8e1c",
   "metadata": {},
   "outputs": [],
   "source": [
    "grids.implement_bc(b_xmin=(1,0,0),\n",
    "                   b_xmax=(0,1,0),\n",
    "                   b_ymin=(1,0,0),\n",
    "                   b_ymax=(1,0,100))"
   ]
  },
  {
   "cell_type": "code",
   "execution_count": 3,
   "id": "43608f97-2c38-4817-bf64-b9cbe261db30",
   "metadata": {},
   "outputs": [
    {
     "ename": "NameError",
     "evalue": "name 'grids' is not defined",
     "output_type": "error",
     "traceback": [
      "\u001b[1;31m---------------------------------------------------------------------------\u001b[0m",
      "\u001b[1;31mNameError\u001b[0m                                 Traceback (most recent call last)",
      "Cell \u001b[1;32mIn[3], line 1\u001b[0m\n\u001b[1;32m----> 1\u001b[0m X \u001b[38;5;241m=\u001b[39m \u001b[43mgrids\u001b[49m\u001b[38;5;241m.\u001b[39mcenter[:,\u001b[38;5;241m0\u001b[39m]\u001b[38;5;241m.\u001b[39mreshape(num_x,num_y)\n\u001b[0;32m      2\u001b[0m Y \u001b[38;5;241m=\u001b[39m grids\u001b[38;5;241m.\u001b[39mcenter[:,\u001b[38;5;241m1\u001b[39m]\u001b[38;5;241m.\u001b[39mreshape(num_x,num_y)\n\u001b[0;32m      4\u001b[0m Z \u001b[38;5;241m=\u001b[39m grids\u001b[38;5;241m.\u001b[39munknown\u001b[38;5;241m.\u001b[39mreshape(num_x,num_y)\n",
      "\u001b[1;31mNameError\u001b[0m: name 'grids' is not defined"
     ]
    }
   ],
   "source": [
    "X = grids.center[:,0].reshape(num_x,num_y)\n",
    "Y = grids.center[:,1].reshape(num_x,num_y)\n",
    "\n",
    "Z = grids.unknown.reshape(num_x,num_y)\n",
    "\n",
    "plt.contourf(X,Y,Z,alpha=1,cmap=cm.PuBu)\n",
    "plt.colorbar()\n",
    "\n",
    "plt.title('Pressure Map',fontsize=14)\n",
    "plt.xlabel('x-axis',fontsize=14)\n",
    "plt.ylabel('y-axis',fontsize=14)\n",
    "\n",
    "plt.xlim([0,20])\n",
    "plt.ylim([0,10])\n",
    "\n",
    "plt.show()"
   ]
  },
  {
   "cell_type": "code",
   "execution_count": 2,
   "id": "375b927d-642b-4af1-b596-09d248a282e0",
   "metadata": {},
   "outputs": [],
   "source": [
    "from scipy.sparse import csr_matrix as csr\n",
    "from scipy.sparse import csc_matrix as csc\n",
    "from scipy.sparse import hstack\n",
    "from scipy.sparse import triu\n",
    "\n",
    "from scipy.sparse.linalg import spsolve_triangular as sps\n",
    "from scipy.sparse.linalg import splu"
   ]
  },
  {
   "cell_type": "code",
   "execution_count": null,
   "id": "0bce67d1-0888-44a8-8c6e-227084feff59",
   "metadata": {},
   "outputs": [],
   "source": []
  }
 ],
 "metadata": {
  "kernelspec": {
   "display_name": "Python 3 (ipykernel)",
   "language": "python",
   "name": "python3"
  },
  "language_info": {
   "codemirror_mode": {
    "name": "ipython",
    "version": 3
   },
   "file_extension": ".py",
   "mimetype": "text/x-python",
   "name": "python",
   "nbconvert_exporter": "python",
   "pygments_lexer": "ipython3",
   "version": "3.12.4"
  }
 },
 "nbformat": 4,
 "nbformat_minor": 5
}
