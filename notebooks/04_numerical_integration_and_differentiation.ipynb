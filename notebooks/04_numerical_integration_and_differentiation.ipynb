{
 "cells": [
  {
   "cell_type": "markdown",
   "id": "5023abfe-7e9b-4572-88b4-962360ae8db3",
   "metadata": {},
   "source": [
    "# Numerical Integration and Differentiation"
   ]
  },
  {
   "cell_type": "code",
   "execution_count": 1,
   "id": "ec101576-f663-491e-af2d-f6c20cd42c63",
   "metadata": {},
   "outputs": [],
   "source": [
    "import types"
   ]
  },
  {
   "cell_type": "code",
   "execution_count": 2,
   "id": "eb3b1c07-d5fa-49bb-960d-8219e026ba7e",
   "metadata": {},
   "outputs": [],
   "source": [
    "import matplotlib.pyplot as plt"
   ]
  },
  {
   "cell_type": "code",
   "execution_count": 3,
   "id": "c8d74a0f-ad7d-41c0-8362-4af4a321bd20",
   "metadata": {},
   "outputs": [],
   "source": [
    "import numpy as np"
   ]
  },
  {
   "cell_type": "code",
   "execution_count": 4,
   "id": "cd53d595-0516-4895-b39b-8c05549a6596",
   "metadata": {},
   "outputs": [],
   "source": [
    "from scipy import integrate"
   ]
  },
  {
   "cell_type": "markdown",
   "id": "94e24fd1-7d31-4c2f-995f-6e212b21e9dd",
   "metadata": {},
   "source": [
    "## Numerical Quadrature Rule"
   ]
  },
  {
   "cell_type": "markdown",
   "id": "aaf321db-f1d8-4646-8821-a6e67e157430",
   "metadata": {},
   "source": [
    "An n-point quadrature formula has the form:\n",
    "\n",
    "$$I(f)=\\int\\limits_{a}^{b}f(x)\\,dx=\\sum_{i=1}^{n} w_if(x_i)+R_n$$"
   ]
  },
  {
   "cell_type": "markdown",
   "id": "2c2fae34-b613-4dab-babf-d349cb6af42e",
   "metadata": {},
   "source": [
    "## Newton-Cotes Quadrature"
   ]
  },
  {
   "cell_type": "markdown",
   "id": "c6c8c920-7859-4b7e-8311-628ff9394777",
   "metadata": {},
   "source": [
    "Interpolating the function value at the midpoint of the interval by a constant (i.e., a\n",
    "polynomial of degree zero) gives a one-point quadrature rule known as the midpoint rule\n",
    "or rectangle rule:"
   ]
  },
  {
   "cell_type": "code",
   "execution_count": 5,
   "id": "1eb4fa76-9028-40ed-98cf-9be1cce3c660",
   "metadata": {},
   "outputs": [],
   "source": [
    "def midpoint(f,x:np.ndarray=None,bounds:tuple=None,Nsample:int=None):\n",
    "\n",
    "    if x is None:\n",
    "        x = np.linspace(*bounds,Nsample)\n",
    "\n",
    "    xmids = (x[1:]+x[:-1])/2\n",
    "\n",
    "    if isinstance(f,types.FunctionType):\n",
    "        ymids = f(xmids)\n",
    "    else:\n",
    "        ymids = (f[1:]+f[:-1])/2\n",
    "\n",
    "    xdiff = (x[1:]-x[:-1])\n",
    "\n",
    "    return np.sum(ymids*xdiff)"
   ]
  },
  {
   "cell_type": "markdown",
   "id": "8078813c-7b47-4676-9917-d1ccd6968dea",
   "metadata": {},
   "source": [
    "Interpolating the function values at the two endpoints of the interval by a straight line\n",
    "(i.e., a polynomial of degree one) gives a two-point quadrature rule known as the trapezoid\n",
    "rule:"
   ]
  },
  {
   "cell_type": "code",
   "execution_count": 6,
   "id": "35621d23-441b-47fa-988b-a3b492bc8efe",
   "metadata": {},
   "outputs": [],
   "source": [
    "def trapezoid(f,x:np.ndarray=None,bounds:tuple=None,Nsample:int=None):\n",
    "\n",
    "    if x is None:\n",
    "        x = np.linspace(*bounds,Nsample)\n",
    "\n",
    "    if isinstance(f,types.FunctionType):\n",
    "        y = f(x)\n",
    "    else:\n",
    "        y = f\n",
    "\n",
    "    xdiff = (x[1:]-x[:-1])\n",
    "    yavrg = (y[1:]+y[:-1])/2\n",
    "\n",
    "    return np.sum(yavrg*xdiff)"
   ]
  },
  {
   "cell_type": "markdown",
   "id": "7fc0dedc-31a2-4e4b-b672-a21ee286cb33",
   "metadata": {},
   "source": [
    "Interpolating the function values at three points (the two endpoints and the midpoint)\n",
    "by a quadratic polynomial gives a three-point quadrature rule known as Simpson's rule:"
   ]
  },
  {
   "cell_type": "code",
   "execution_count": 7,
   "id": "69a3e166-d40a-4865-98e9-dabb7f810ed5",
   "metadata": {},
   "outputs": [],
   "source": [
    "def simpson(f,x:np.ndarray=None,bounds:tuple=None,Nsample:int=None):\n",
    "\n",
    "    xbnds = np.linspace(*bounds,Nsample) if x is None else x\n",
    "    \n",
    "    xmids = (xbnds[1:]+xbnds[:-1])/2\n",
    "\n",
    "    if isinstance(f,types.FunctionType):\n",
    "        ybnds = f(xbnds)\n",
    "        ymids = f(xmids)\n",
    "    else:\n",
    "        ybnds = f\n",
    "        ymids = (f[1:]+f[:-1])/2\n",
    "\n",
    "    xdiff = (xbnds[1:]-xbnds[:-1])\n",
    "\n",
    "    I1 = ybnds[:-1]*xdiff/6\n",
    "    I2 = ymids*4*xdiff/6\n",
    "    I3 = ybnds[1:]*xdiff/6\n",
    "\n",
    "    return np.sum(I1)+np.sum(I2)+np.sum(I3)"
   ]
  },
  {
   "cell_type": "markdown",
   "id": "258be1f9-444f-4035-85fd-9a0367df574c",
   "metadata": {},
   "source": [
    "Example 1:"
   ]
  },
  {
   "cell_type": "code",
   "execution_count": 8,
   "id": "71373cde-ca0c-4cb6-9ef8-af0e2de77dc7",
   "metadata": {},
   "outputs": [],
   "source": [
    "f = lambda x: 1/(1+x**2)"
   ]
  },
  {
   "cell_type": "code",
   "execution_count": 17,
   "id": "0c620dd9-6ea0-4a91-b256-4251857ede73",
   "metadata": {},
   "outputs": [
    {
     "data": {
      "text/plain": [
       "np.float64(0.32175055439664213)"
      ]
     },
     "execution_count": 17,
     "metadata": {},
     "output_type": "execute_result"
    }
   ],
   "source": [
    "I = np.arctan(2)-np.arctan(1); I"
   ]
  },
  {
   "cell_type": "code",
   "execution_count": null,
   "id": "1ad785c6-9ac0-46b1-a489-0da35260a9be",
   "metadata": {},
   "outputs": [],
   "source": []
  },
  {
   "cell_type": "code",
   "execution_count": 9,
   "id": "8213bd9b-1f72-42b6-a33c-38fdd3e920c4",
   "metadata": {},
   "outputs": [],
   "source": [
    "bounds = (1,2)"
   ]
  },
  {
   "cell_type": "code",
   "execution_count": 10,
   "id": "b6845e94-d147-4771-86e6-cda9a3b5ee8b",
   "metadata": {},
   "outputs": [],
   "source": [
    "Nsample = 100"
   ]
  },
  {
   "cell_type": "code",
   "execution_count": 11,
   "id": "1c8d1f92-09b8-4eba-82bb-d96dad6cba57",
   "metadata": {},
   "outputs": [
    {
     "data": {
      "text/plain": [
       "np.float64(0.32174910896298947)"
      ]
     },
     "execution_count": 11,
     "metadata": {},
     "output_type": "execute_result"
    }
   ],
   "source": [
    "midpoint(f,bounds=bounds,Nsample=Nsample)"
   ]
  },
  {
   "cell_type": "code",
   "execution_count": null,
   "id": "29da2d9e-d4a2-4ebc-960e-ef982e633e93",
   "metadata": {},
   "outputs": [],
   "source": []
  },
  {
   "cell_type": "code",
   "execution_count": 19,
   "id": "7597702b-90da-4946-875b-1a60316703d2",
   "metadata": {},
   "outputs": [],
   "source": [
    "In = trapezoid(f,bounds=bounds,Nsample=Nsample)"
   ]
  },
  {
   "cell_type": "code",
   "execution_count": 20,
   "id": "38cab4ee-948b-4cb0-baa4-fd68d01b26d6",
   "metadata": {},
   "outputs": [],
   "source": [
    "x = np.linspace(1,2,100)\n",
    "Is = integrate.trapezoid(f(x),x)"
   ]
  },
  {
   "cell_type": "code",
   "execution_count": 22,
   "id": "2a19052f-cd82-42fd-a498-de1f9fe0c23f",
   "metadata": {},
   "outputs": [
    {
     "name": "stdout",
     "output_type": "stream",
     "text": [
      "SciPy.Integrate.Trapezoid gives 0.3217534452614496 and Trapezoid from scratch gives 0.3217534452614496\n"
     ]
    }
   ],
   "source": [
    "print(f\"SciPy.Integrate.Trapezoid gives {Is} and Trapezoid from scratch gives {In}\")"
   ]
  },
  {
   "cell_type": "code",
   "execution_count": 23,
   "id": "6ed2ceb3-3133-4a04-8eb3-74a60cc88f06",
   "metadata": {},
   "outputs": [],
   "source": [
    "In = simpson(f,bounds=bounds,Nsample=Nsample)"
   ]
  },
  {
   "cell_type": "code",
   "execution_count": 24,
   "id": "4f9496da-466a-45a5-b45a-1e731e2715d9",
   "metadata": {},
   "outputs": [],
   "source": [
    "x = np.linspace(1,2,100)\n",
    "Is = integrate.simpson(f(x),x=x)"
   ]
  },
  {
   "cell_type": "code",
   "execution_count": 25,
   "id": "d0d62e0f-5fb7-488c-85ac-adf9d034c9fe",
   "metadata": {},
   "outputs": [
    {
     "name": "stdout",
     "output_type": "stream",
     "text": [
      "SciPy.Integrate.Simpson gives 0.32175055428200283 and mySimpson gives 0.3217505543958095\n"
     ]
    }
   ],
   "source": [
    "print(f\"SciPy.Integrate.Simpson gives {Is} and mySimpson gives {In}\")"
   ]
  },
  {
   "cell_type": "code",
   "execution_count": 15,
   "id": "c2a79fc1-911d-47e5-8af7-d150712ef856",
   "metadata": {},
   "outputs": [
    {
     "data": {
      "text/plain": [
       "(0.3217505543966422, 3.572148736770611e-15)"
      ]
     },
     "execution_count": 15,
     "metadata": {},
     "output_type": "execute_result"
    }
   ],
   "source": [
    "integrate.quad(f,1,2) # General purpose integration."
   ]
  },
  {
   "cell_type": "markdown",
   "id": "e14ed3b5-58ce-40df-9cf3-30a49a8e536e",
   "metadata": {},
   "source": [
    "## Gaussian Quadrature Rules"
   ]
  },
  {
   "cell_type": "markdown",
   "id": "e605b56f-a640-485b-ad22-7bd7dd3f8191",
   "metadata": {},
   "source": [
    "Newton-Cotes quadrature rules are simple and often e\u000b",
    "ective, but they have a number of\n",
    "drawbacks:\n",
    "- The use of a large number of equally spaced nodes in a high-order Newton-Cotes rule\n",
    "may incur the erratic behavior and unsatisfactory results often associated with highdegree\n",
    "polynomial interpolation. For example, some of the weights for a high-order rule\n",
    "may be negative, potentially leading to catastrophic cancellation in the summation.\n",
    "- Closed Newton-Cotes rules require evaluation of the integrand function at the endpoints\n",
    "of the interval, where singularities often lie.\n",
    "- In general, Newton-Cotes rules are not of the highest polynomial degree possible for the\n",
    "number of nodes used.\n",
    "\n",
    "These drawbacks are largely overcome by Gaussian quadrature rules. Gaussian rules are\n",
    "based on polynomial interpolation, but the nodes are not equally spaced within the interval.\n",
    "Instead, the locations of the nodes are chosen to maximize the polynomial degree of the\n",
    "resulting rule. In particular, the nodes tend to be bunched near the endpoints but do\n",
    "not include the endpoints themselves. These two properties avoid both singularities at\n",
    "the endpoints and unwanted oscillation in the polynomial interpolant, keeping the weights\n",
    "positive and of reasonable magnitude."
   ]
  },
  {
   "cell_type": "markdown",
   "id": "a02ea5eb-7f87-455f-a77f-0f43cb325b3b",
   "metadata": {},
   "source": [
    "## Composite Quadrature Rules"
   ]
  },
  {
   "cell_type": "markdown",
   "id": "0a62c03f-7fd8-47c8-9b86-a33dd6283039",
   "metadata": {},
   "source": [
    "It is not feasible to use arbitrarily high-order quadrature rules in an attempt to attain\n",
    "arbitrarily high accuracy in evaluating an integral over a given interval. A much better\n",
    "alternative is to subdivide the original interval into subintervals, often called panels in this\n",
    "context, then apply a lower-order quadrature rule in each panel. Summing all of these\n",
    "partial results then yields an approximation to the overall integral."
   ]
  },
  {
   "cell_type": "markdown",
   "id": "fd57ec7a-9a2b-4aa2-85e1-a062fd8d74a6",
   "metadata": {},
   "source": [
    "## Adaptive Quadrature"
   ]
  },
  {
   "cell_type": "markdown",
   "id": "043ef8ed-161d-4325-b866-51cbbc1513ef",
   "metadata": {},
   "source": [
    "A composite quadrature rule with an error estimate can be used to produce an automatic\n",
    "quadrature procedure: simply continue to subdivide all of the panels, say, by half, until the\n",
    "overall error estimate falls below the required tolerance. This approach usually works, but\n",
    "it may require substantially more work than methods tailored for the particular problem.\n",
    "A more intelligent approach is adaptive quadrature, in which the domain of integration is\n",
    "selectively refined to reflect the behavior of the particular integrand function."
   ]
  },
  {
   "cell_type": "markdown",
   "id": "6ccac2fb-7596-4491-8394-b0f153ea13de",
   "metadata": {},
   "source": [
    "## Integration Problems"
   ]
  },
  {
   "cell_type": "markdown",
   "id": "665b929c-7f69-47b8-ae90-c0fadcb7bc5e",
   "metadata": {},
   "source": [
    "### Integrating Tabular Data"
   ]
  },
  {
   "cell_type": "markdown",
   "id": "8589ec38-0eba-4eb1-8a57-27ed0c41ec96",
   "metadata": {},
   "source": [
    "Thus far we have assumed that the integrand function can be evaluated at any desired\n",
    "point within the interval of integration. This assumption may not be valid if the integrand is\n",
    "dfined only by a table of its values at selected points. A reasonable approach to integrating\n",
    "such tabular data is by piecewise interpolation. For example, integrating the piecewise linear\n",
    "interpolant to tabular data gives a composite trapezoid rule."
   ]
  },
  {
   "cell_type": "markdown",
   "id": "48fd9a9f-3e4a-46a6-97b2-8f8b8325fb0e",
   "metadata": {},
   "source": [
    "Exercise 2:"
   ]
  },
  {
   "cell_type": "code",
   "execution_count": 27,
   "id": "041382c3-3bcf-46ec-88b0-1002f7df0cf4",
   "metadata": {},
   "outputs": [
    {
     "name": "stdout",
     "output_type": "stream",
     "text": [
      "7.27975 7.315620891608392\n"
     ]
    }
   ],
   "source": [
    "x = np.array([0,1.1,2.5,3.1,4.3,5.6,5.9,7.2,7.8,7.9,8.3,8.9,9.3,9.6,10.])\n",
    "y = np.array([0.5,0.691,0.845,0.880,0.896,0.846,0.826,0.714,0.652,0.642,0.598,0.533,0.489,0.457,0.414])\n",
    "\n",
    "It = integrate.trapezoid(y,x=x)\n",
    "Is = integrate.simpson(y,x=x)\n",
    "\n",
    "print(It,Is)"
   ]
  },
  {
   "cell_type": "code",
   "execution_count": 28,
   "id": "8ab299c5-b340-4b4d-b04b-48e6253e2678",
   "metadata": {},
   "outputs": [
    {
     "data": {
      "image/png": "[encoded data removed]",
      "text/plain": [
       "<Figure size 640x480 with 1 Axes>"
      ]
     },
     "metadata": {},
     "output_type": "display_data"
    }
   ],
   "source": [
    "plt.scatter(x,y)\n",
    "plt.show()"
   ]
  },
  {
   "cell_type": "markdown",
   "id": "adf8ae27-53bd-4ea1-b67a-0178234d467d",
   "metadata": {},
   "source": [
    "### Infinite Intervals"
   ]
  },
  {
   "cell_type": "markdown",
   "id": "94ad6a16-284e-4136-b45f-2889de1aef1b",
   "metadata": {},
   "source": [
    "Although some quadrature routines are capable of handling integrals over infinite or semi-in\n",
    "finite intervals, one may also be able to deal adequately with such problems using standard\n",
    "quadrature routines for finite intervals. A number of approaches are possible:\n",
    "- Replace the infinite limits of integration by finite values. Such finite limits should be\n",
    "chosen carefully so that any omitted tail is negligible or its contribution is estimated,\n",
    "if possible. But the remaining finite interval should not be so wide that an automatic\n",
    "quadrature routine will be fooled into sampling badly.\n",
    "- Transform the variable of integration so that the new interval is finite. Typical transformations\n",
    "include x = -log t or x = t/(1 - t). Care must be taken not to introduce\n",
    "singularities or other dificulties by such a transformation.\n",
    "- Apply a quadrature rule, such as Gauss-Laguerre or Gauss-Hermite, designed for an\n",
    "infinite interval."
   ]
  },
  {
   "cell_type": "markdown",
   "id": "3aeb3b0e-95fb-4e6c-aadd-b29f23f431b8",
   "metadata": {},
   "source": [
    "### Double Integrals"
   ]
  },
  {
   "cell_type": "markdown",
   "id": "81981e66-dabc-4077-a774-908d25033d48",
   "metadata": {},
   "source": [
    "To evaluate a double integral, a number of approaches are available, including the following:\n",
    "- Use an automatic one-dimensional quadrature routine for each dimension, one for the\n",
    "outer integral and the other for the inner integral. Each time the outer routine calls\n",
    "its integrand function, the latter will call the inner quadrature routine. This approach\n",
    "requires some care in setting the error tolerances for the respective quadrature routines.\n",
    "- Use a product quadrature rule, which results from applying a one-dimensional rule to\n",
    "successive dimensions. This approach is limited to standard domains, such as rectangles.\n",
    "- Use a nonproduct quadrature rule. In recent years, such rules, including error estimates,\n",
    "have become available. The most important case for automatic adaptive use is for triangles,\n",
    "since many two-dimensional regions can be efficiently triangulated to any desired\n",
    "degree of refinement."
   ]
  },
  {
   "cell_type": "markdown",
   "id": "6e822cf8-05af-4452-b718-99c6e0bffc37",
   "metadata": {},
   "source": [
    "## Numerical Differentiation"
   ]
  },
  {
   "cell_type": "code",
   "execution_count": null,
   "id": "382d39d0-a605-4168-94d1-1d65bf48cd8b",
   "metadata": {},
   "outputs": [],
   "source": []
  }
 ],
 "metadata": {
  "kernelspec": {
   "display_name": "Python 3 (ipykernel)",
   "language": "python",
   "name": "python3"
  },
  "language_info": {
   "codemirror_mode": {
    "name": "ipython",
    "version": 3
   },
   "file_extension": ".py",
   "mimetype": "text/x-python",
   "name": "python",
   "nbconvert_exporter": "python",
   "pygments_lexer": "ipython3",
   "version": "3.12.4"
  }
 },
 "nbformat": 4,
 "nbformat_minor": 5
}
