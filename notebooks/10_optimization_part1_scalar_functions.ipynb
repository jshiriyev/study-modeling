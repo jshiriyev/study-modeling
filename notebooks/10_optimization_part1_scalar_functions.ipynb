{
 "cells": [
  {
   "cell_type": "code",
   "execution_count": 1,
   "id": "de963138-4801-4681-9038-c94d90826b2e",
   "metadata": {},
   "outputs": [],
   "source": [
    "import matplotlib.pyplot as plt\n",
    "import numpy as np"
   ]
  },
  {
   "cell_type": "markdown",
   "id": "ac99fb0c-9f62-44f8-acc1-1c9adb507a23",
   "metadata": {},
   "source": [
    "# One-Dimensional Optimization"
   ]
  },
  {
   "cell_type": "markdown",
   "id": "53e4994d-6631-458a-87c2-defb1c406a54",
   "metadata": {},
   "source": [
    "We begin our study of methods for optimization with problems in one dimension. The\n",
    "one-dimensional case is simpler than multidimensional optimization yet illustrates many of\n",
    "the ideas and issues that arise in higher dimensions."
   ]
  },
  {
   "cell_type": "markdown",
   "id": "ac7530f2-dd6a-44ad-b7bd-f46d1ac82f2a",
   "metadata": {},
   "source": [
    "## Golden Section Search"
   ]
  },
  {
   "cell_type": "code",
   "execution_count": 3,
   "id": "0ed4921d-81a0-4b27-8b57-d3bd913e0d93",
   "metadata": {},
   "outputs": [],
   "source": [
    "def golden(func,lower,upper,ratio=None,tol=1e-5):\n",
    "    \"\"\"It is the implementation of golden section search technique.\"\"\"\n",
    "\n",
    "    ratio = (5**(1/2)-1)/2 if ratio is None else ratio\n",
    "\n",
    "    x1 = (1-ratio)*upper+ratio*lower\n",
    "    x2 = (1-ratio)*lower+ratio*upper\n",
    "\n",
    "    f1 = func(x1)\n",
    "    f2 = func(x2)\n",
    "\n",
    "    calls = 2\n",
    "\n",
    "    while (upper-lower)>tol:\n",
    "\n",
    "        if f1>f2:\n",
    "            lower = x1\n",
    "            x1 = x2\n",
    "            f1 = f2\n",
    "            x2 = (1-ratio)*lower+ratio*upper\n",
    "            f2 = func(x2)\n",
    "        else:\n",
    "            upper = x2\n",
    "            x2 = x1\n",
    "            f2 = f1\n",
    "            x1 = (1-ratio)*upper+ratio*lower\n",
    "            f1 = func(x1)\n",
    "\n",
    "        calls += 1\n",
    "\n",
    "    return (lower+upper)/2, func((lower+upper)/2)"
   ]
  },
  {
   "cell_type": "code",
   "execution_count": 4,
   "id": "296c111c-c4e5-42cc-8d49-cbaf328a9248",
   "metadata": {},
   "outputs": [],
   "source": [
    "def objective(x):\n",
    "    return (x-2)**2+2"
   ]
  },
  {
   "cell_type": "code",
   "execution_count": 6,
   "id": "c57ec559-70d5-44b0-8355-0413f0f622e7",
   "metadata": {},
   "outputs": [],
   "source": [
    "def objective(x):\n",
    "    return 0.5-x*np.exp(-x**2)"
   ]
  },
  {
   "cell_type": "code",
   "execution_count": 5,
   "id": "458eec8a-fe71-47a3-9a3a-44bc89676e79",
   "metadata": {},
   "outputs": [],
   "source": [
    "def objective(x):\n",
    "    F = 10+0.2*x**(2.3)\n",
    "    G = 10+80*np.exp(-0.3*x)\n",
    "    return F+G"
   ]
  },
  {
   "cell_type": "code",
   "execution_count": 7,
   "id": "384e8be4-c09a-4acd-918d-3a359920643a",
   "metadata": {},
   "outputs": [],
   "source": [
    "def objective(x):\n",
    "    return x*(x-2)*(x-3)*(x-6)+15"
   ]
  },
  {
   "cell_type": "code",
   "execution_count": 9,
   "id": "0a8bf3b9-99f9-404b-9d2e-829b853a5915",
   "metadata": {},
   "outputs": [],
   "source": [
    "def objective4(x):\n",
    "    return (x**2)/(1-x)"
   ]
  },
  {
   "cell_type": "code",
   "execution_count": 10,
   "id": "9b60d55b-257c-476d-b0ec-cb4abddce6c6",
   "metadata": {},
   "outputs": [
    {
     "name": "stdout",
     "output_type": "stream",
     "text": [
      "(0.7175207925447946, 3.904945249330682)\n"
     ]
    }
   ],
   "source": [
    "x = np.linspace(0,4,100)\n",
    "y = objective(x)\n",
    "\n",
    "gs = golden(objective,0,4,tol=4e-2)\n",
    "\n",
    "print(gs)"
   ]
  },
  {
   "cell_type": "code",
   "execution_count": 11,
   "id": "52f61ba3-4de4-49f4-bbc3-a1f1efeab488",
   "metadata": {},
   "outputs": [
    {
     "data": {
      "image/png": "[encoded data removed]",
      "text/plain": [
       "<Figure size 640x480 with 1 Axes>"
      ]
     },
     "metadata": {},
     "output_type": "display_data"
    }
   ],
   "source": [
    "plt.plot(x,y)\n",
    "plt.scatter(gs[0],gs[1])\n",
    "plt.show()"
   ]
  },
  {
   "cell_type": "markdown",
   "id": "4bde080f-8fe5-4eb2-a2b4-6dd7f13efbbe",
   "metadata": {},
   "source": [
    "## Successive Parabolic Interpolation"
   ]
  },
  {
   "cell_type": "code",
   "execution_count": 15,
   "id": "2a32f0ce-876d-40a2-b2fb-69ad53a18df5",
   "metadata": {},
   "outputs": [],
   "source": [
    "def minima(x0,x1,x2,f0,f1,f2):\n",
    "\n",
    "    alpha = (f1-f0)/(x1-x0)\n",
    "    betta = (f2-f0-alpha*(x2-x0))/(x2-x0)/(x2-x1)\n",
    "\n",
    "    return (x0+x1)/2-alpha/(2*betta)"
   ]
  },
  {
   "cell_type": "code",
   "execution_count": 16,
   "id": "9bc5036b-c4f9-4c71-acce-2e2a5603039c",
   "metadata": {},
   "outputs": [],
   "source": [
    "def parabolic(func,lower,upper,tol=1e-5):\n",
    "    \"\"\"It is the implementation of successive parabolic interpolation.\"\"\"\n",
    "\n",
    "    x0,x2 = lower,upper\n",
    "    \n",
    "    calls = 2\n",
    "    f0,f2 = func(x0),func(x2)\n",
    "\n",
    "    x1 = (x0+x2)/2\n",
    "\n",
    "    calls += 1\n",
    "    f1 = func(x1)\n",
    "\n",
    "    while abs(x2-x0)>tol:\n",
    "\n",
    "        x3 = minima(x0,x1,x2,f0,f1,f2)\n",
    "\n",
    "        calls += 1\n",
    "        f3 = func(x3)\n",
    "\n",
    "        x0,f0 = x1,f1\n",
    "        x1,f1 = x2,f2\n",
    "        x2,f2 = x3,f3\n",
    "\n",
    "    return x2, f2"
   ]
  },
  {
   "cell_type": "code",
   "execution_count": 17,
   "id": "7ad560b9-1db2-4cee-b5c1-50d6db3efe48",
   "metadata": {},
   "outputs": [
    {
     "name": "stdout",
     "output_type": "stream",
     "text": [
      "0.7071071604675768 0.07111805751977002\n"
     ]
    },
    {
     "data": {
      "image/png": "[encoded data removed]",
      "text/plain": [
       "<Figure size 640x480 with 1 Axes>"
      ]
     },
     "metadata": {},
     "output_type": "display_data"
    }
   ],
   "source": [
    "def objective(x):\n",
    "    return 0.5-x*np.exp(-x**2)\n",
    "\n",
    "x = np.linspace(0,1.2,100)\n",
    "\n",
    "o = objective(x)\n",
    "\n",
    "pb = parabolic(objective,0,1.2,tol=1e-2)\n",
    "\n",
    "print(pb[0],pb[1])\n",
    "\n",
    "plt.plot(x,o)\n",
    "plt.scatter(pb[0],pb[1])\n",
    "plt.show()"
   ]
  },
  {
   "cell_type": "markdown",
   "id": "a423295e-cd1c-47f2-8508-ac0fddd86397",
   "metadata": {},
   "source": [
    "## Newton's Method"
   ]
  },
  {
   "cell_type": "markdown",
   "id": "3186839b-8be8-49ef-aea7-778cb5745d10",
   "metadata": {},
   "source": [
    "A local quadratic approximation to the objective function is useful because the minimum\n",
    "of a quadratic is easy to compute. Another way to obtain a local quadratic approximation\n",
    "is to use a truncated Taylor series expansion,"
   ]
  },
  {
   "cell_type": "markdown",
   "id": "cde99eb3-2114-4cc0-88b6-b92fa6c723d8",
   "metadata": {},
   "source": [
    "## Safeguarded Methods"
   ]
  },
  {
   "cell_type": "markdown",
   "id": "e12bfb17-6e76-499c-90ce-ac601e447bec",
   "metadata": {},
   "source": [
    "As with solving nonlinear equations in one dimension, slow-but-sure and fast-but-risky\n",
    "optimization methods can be combined to provide both safety and efficiency. A bracketing\n",
    "interval, in which the solution is known to lie, is maintained so that if the fast method\n",
    "generates an iterate that would lie outside the interval, then the safe method can be used\n",
    "to reduce the length of the bracketing interval before trying the fast method again, with\n",
    "a better chance of producing a reliable result. Most library routines for one-dimensional\n",
    "optimization are based on such a hybrid approach. One popular combination, which requires\n",
    "no derivatives of the objective function, is golden section search and successive parabolic\n",
    "interpolation."
   ]
  },
  {
   "cell_type": "code",
   "execution_count": null,
   "id": "7bd6a818-1f52-42e0-85b2-5ca688f652dd",
   "metadata": {},
   "outputs": [],
   "source": []
  }
 ],
 "metadata": {
  "kernelspec": {
   "display_name": "Python 3 (ipykernel)",
   "language": "python",
   "name": "python3"
  },
  "language_info": {
   "codemirror_mode": {
    "name": "ipython",
    "version": 3
   },
   "file_extension": ".py",
   "mimetype": "text/x-python",
   "name": "python",
   "nbconvert_exporter": "python",
   "pygments_lexer": "ipython3",
   "version": "3.12.4"
  }
 },
 "nbformat": 4,
 "nbformat_minor": 5
}
